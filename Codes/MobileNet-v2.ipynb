{
  "nbformat": 4,
  "nbformat_minor": 0,
  "metadata": {
    "colab": {
      "provenance": [],
      "gpuType": "T4"
    },
    "kernelspec": {
      "name": "python3",
      "display_name": "Python 3"
    },
    "language_info": {
      "name": "python"
    },
    "accelerator": "GPU"
  },
  "cells": [
    {
      "cell_type": "code",
      "source": [
        "from google.colab import drive\n",
        "drive.mount('/content/drive')"
      ],
      "metadata": {
        "colab": {
          "base_uri": "https://localhost:8080/"
        },
        "id": "nNCQJe6K800A",
        "outputId": "ebeb17a3-474d-453b-c028-dc458faf191c"
      },
      "execution_count": null,
      "outputs": [
        {
          "output_type": "stream",
          "name": "stdout",
          "text": [
            "Mounted at /content/drive\n"
          ]
        }
      ]
    },
    {
      "cell_type": "code",
      "source": [
        "# import the libraries as shown below\n",
        "\n",
        "import tensorflow as tf\n",
        "from tensorflow.keras.applications.mobilenet_v2 import MobileNetV2, preprocess_input\n",
        "from tensorflow.keras.layers import Dense, GlobalAveragePooling2D, Dropout\n",
        "from tensorflow.keras.models import Model\n",
        "from tensorflow.keras.models import Sequential\n",
        "from tensorflow.keras.layers import Input, Dense, Dropout, Flatten\n",
        "from tensorflow.keras.optimizers import Adam\n",
        "from tensorflow.keras.preprocessing.image import ImageDataGenerator\n",
        "import numpy as np\n",
        "from glob import glob\n",
        "#import matplotlib.pyplot as plt"
      ],
      "metadata": {
        "id": "zcnqNZuD9mhI"
      },
      "execution_count": null,
      "outputs": []
    },
    {
      "cell_type": "code",
      "source": [
        "\n",
        "BATCH_SIZE = 50\n",
        "EPOCHS = 10\n",
        "LEARNING_RATE = 0.001\n",
        "IMAGE_SIZE = (224,224)\n",
        "NUM_CLASSES = 2\n",
        "\n",
        "train_path = '/content/drive/MyDrive/dataset/train'\n",
        "valid_path = '/content/drive/MyDrive/dataset/valid'"
      ],
      "metadata": {
        "id": "bPRhlRkR9qKg"
      },
      "execution_count": null,
      "outputs": []
    },
    {
      "cell_type": "code",
      "source": [
        "# Set up data generators for training and validation data\n",
        "train_datagen = ImageDataGenerator(\n",
        "    preprocessing_function=preprocess_input,\n",
        "\n",
        ")\n",
        "\n",
        "valid_datagen = ImageDataGenerator(\n",
        "    preprocessing_function=preprocess_input\n",
        ")\n",
        "\n",
        "train_generator = train_datagen.flow_from_directory(\n",
        "    '/content/drive/MyDrive/dataset/test',\n",
        "    target_size=IMAGE_SIZE,\n",
        "    batch_size=BATCH_SIZE,\n",
        "    class_mode='binary'\n",
        ")\n",
        "\n",
        "valid_generator = valid_datagen.flow_from_directory(\n",
        "    '/content/drive/MyDrive/dataset/valid',\n",
        "    target_size=IMAGE_SIZE,\n",
        "    batch_size=BATCH_SIZE,\n",
        "    class_mode='binary',\n",
        "    shuffle=False\n",
        ")"
      ],
      "metadata": {
        "colab": {
          "base_uri": "https://localhost:8080/"
        },
        "id": "JP9sZ2o_99RH",
        "outputId": "0bdda6fa-b544-4c39-a4e3-ca38955fae54"
      },
      "execution_count": null,
      "outputs": [
        {
          "output_type": "stream",
          "name": "stdout",
          "text": [
            "Found 200 images belonging to 2 classes.\n",
            "Found 200 images belonging to 2 classes.\n"
          ]
        }
      ]
    },
    {
      "cell_type": "code",
      "source": [
        "test_datagen = ImageDataGenerator(\n",
        "    preprocessing_function=preprocess_input\n",
        ")\n",
        "\n",
        "test_generator = valid_datagen.flow_from_directory(\n",
        "    '/content/drive/MyDrive/dataset/test',\n",
        "    target_size=IMAGE_SIZE,\n",
        "    batch_size=BATCH_SIZE,\n",
        "    class_mode='binary',\n",
        "    shuffle=False\n",
        ")"
      ],
      "metadata": {
        "colab": {
          "base_uri": "https://localhost:8080/"
        },
        "id": "4OfXSmgBDP3h",
        "outputId": "3f35f82d-e9d8-4694-a6c6-42a849b90b99"
      },
      "execution_count": null,
      "outputs": [
        {
          "output_type": "stream",
          "name": "stdout",
          "text": [
            "Found 200 images belonging to 2 classes.\n"
          ]
        }
      ]
    },
    {
      "cell_type": "code",
      "source": [
        "input_shape = (224, 224, 3)\n",
        "\n",
        "# Load the pre-trained MobileNetV2 model\n",
        "mobilenetv2 = MobileNetV2(input_shape=input_shape, weights='imagenet', include_top=False)\n",
        "\n",
        "# Create a sequential model and add MobileNetV2 to it\n",
        "model = Sequential()\n",
        "model.add(Input(shape=input_shape))\n",
        "model.add(mobilenetv2)\n",
        "model.add(Flatten())\n",
        "model.add(Dropout(0.2))\n",
        "model.add(Dense(16))\n",
        "model.add(Dense(2, activation='softmax'))\n",
        "\n",
        "model.summary()\n",
        "\n",
        "# Freeze the weights of all layers in the MobileNetV2 except for the last layer\n",
        "for layer in mobilenetv2.layers[:-1]:\n",
        "    layer.trainable = False"
      ],
      "metadata": {
        "colab": {
          "base_uri": "https://localhost:8080/"
        },
        "id": "F9pw-C0K-WaP",
        "outputId": "6cf44aed-297c-437f-bd7d-11c67276d735"
      },
      "execution_count": null,
      "outputs": [
        {
          "output_type": "stream",
          "name": "stdout",
          "text": [
            "Downloading data from https://storage.googleapis.com/tensorflow/keras-applications/mobilenet_v2/mobilenet_v2_weights_tf_dim_ordering_tf_kernels_1.0_224_no_top.h5\n",
            "9406464/9406464 [==============================] - 0s 0us/step\n",
            "Model: \"sequential\"\n",
            "_________________________________________________________________\n",
            " Layer (type)                Output Shape              Param #   \n",
            "=================================================================\n",
            " mobilenetv2_1.00_224 (Funct  (None, 7, 7, 1280)       2257984   \n",
            " ional)                                                          \n",
            "                                                                 \n",
            " flatten (Flatten)           (None, 62720)             0         \n",
            "                                                                 \n",
            " dropout (Dropout)           (None, 62720)             0         \n",
            "                                                                 \n",
            " dense (Dense)               (None, 16)                1003536   \n",
            "                                                                 \n",
            " dense_1 (Dense)             (None, 2)                 34        \n",
            "                                                                 \n",
            "=================================================================\n",
            "Total params: 3,261,554\n",
            "Trainable params: 3,227,442\n",
            "Non-trainable params: 34,112\n",
            "_________________________________________________________________\n"
          ]
        }
      ]
    },
    {
      "cell_type": "code",
      "source": [
        "model.compile(optimizer=Adam(lr=LEARNING_RATE), loss='sparse_categorical_crossentropy', metrics=['accuracy'])"
      ],
      "metadata": {
        "colab": {
          "base_uri": "https://localhost:8080/"
        },
        "id": "cbwhID1V_kh-",
        "outputId": "37d2f91a-e8e9-47cf-fd0a-224b7f604a65"
      },
      "execution_count": null,
      "outputs": [
        {
          "output_type": "stream",
          "name": "stderr",
          "text": [
            "WARNING:absl:`lr` is deprecated in Keras optimizer, please use `learning_rate` or use the legacy optimizer, e.g.,tf.keras.optimizers.legacy.Adam.\n"
          ]
        }
      ]
    },
    {
      "cell_type": "code",
      "source": [
        "# Train the model\n",
        "r = model.fit(train_generator, validation_data=valid_generator, epochs=EPOCHS)"
      ],
      "metadata": {
        "colab": {
          "base_uri": "https://localhost:8080/"
        },
        "id": "MBQBYRqD_18H",
        "outputId": "5c17071e-6a9d-44d7-a0f4-7865e9c98698"
      },
      "execution_count": null,
      "outputs": [
        {
          "output_type": "stream",
          "name": "stdout",
          "text": [
            "Epoch 1/10\n",
            "4/4 [==============================] - 7s 869ms/step - loss: 1.9352 - accuracy: 0.6400 - val_loss: 2.2274 - val_accuracy: 0.8750\n",
            "Epoch 2/10\n",
            "4/4 [==============================] - 1s 377ms/step - loss: 0.9338 - accuracy: 0.9500 - val_loss: 0.5945 - val_accuracy: 0.9850\n",
            "Epoch 3/10\n",
            "4/4 [==============================] - 1s 372ms/step - loss: 0.1218 - accuracy: 0.9950 - val_loss: 0.2284 - val_accuracy: 0.9950\n",
            "Epoch 4/10\n",
            "4/4 [==============================] - 1s 379ms/step - loss: 0.0000e+00 - accuracy: 1.0000 - val_loss: 0.1287 - val_accuracy: 0.9950\n",
            "Epoch 5/10\n",
            "4/4 [==============================] - 1s 364ms/step - loss: 9.5060e-07 - accuracy: 1.0000 - val_loss: 0.0986 - val_accuracy: 0.9900\n",
            "Epoch 6/10\n",
            "4/4 [==============================] - 2s 601ms/step - loss: 0.0055 - accuracy: 0.9950 - val_loss: 0.0867 - val_accuracy: 0.9900\n",
            "Epoch 7/10\n",
            "4/4 [==============================] - 2s 607ms/step - loss: 4.7684e-09 - accuracy: 1.0000 - val_loss: 0.0791 - val_accuracy: 0.9900\n",
            "Epoch 8/10\n",
            "4/4 [==============================] - 1s 359ms/step - loss: 5.9605e-10 - accuracy: 1.0000 - val_loss: 0.0812 - val_accuracy: 0.9950\n",
            "Epoch 9/10\n",
            "4/4 [==============================] - 1s 353ms/step - loss: 5.9605e-10 - accuracy: 1.0000 - val_loss: 0.0860 - val_accuracy: 0.9950\n",
            "Epoch 10/10\n",
            "4/4 [==============================] - 1s 377ms/step - loss: 0.0000e+00 - accuracy: 1.0000 - val_loss: 0.0897 - val_accuracy: 0.9950\n"
          ]
        }
      ]
    },
    {
      "cell_type": "code",
      "source": [
        "import matplotlib.pyplot as plt\n",
        "# plot the loss\n",
        "plt.plot(r.history['loss'], label='train loss')\n",
        "plt.plot(r.history['val_loss'], label='val loss')\n",
        "plt.legend()\n",
        "plt.show()\n",
        "plt.savefig('LossVal_loss')\n",
        "\n",
        "# plot the accuracy\n",
        "plt.plot(r.history['accuracy'], label='train acc')\n",
        "plt.plot(r.history['val_accuracy'], label='val acc')\n",
        "plt.legend()\n",
        "plt.show()\n",
        "plt.savefig('AccVal_acc')"
      ],
      "metadata": {
        "colab": {
          "base_uri": "https://localhost:8080/",
          "height": 860
        },
        "id": "ahy_RZ6A_4W3",
        "outputId": "b799f3a5-970a-472f-ae9c-942005800d6b"
      },
      "execution_count": null,
      "outputs": [
        {
          "output_type": "display_data",
          "data": {
            "text/plain": [
              "<Figure size 640x480 with 1 Axes>"
            ],
            "image/png": "[encoded data removed]"
          },
          "metadata": {}
        },
        {
          "output_type": "display_data",
          "data": {
            "text/plain": [
              "<Figure size 640x480 with 1 Axes>"
            ],
            "image/png": "[encoded data removed]"
          },
          "metadata": {}
        },
        {
          "output_type": "display_data",
          "data": {
            "text/plain": [
              "<Figure size 640x480 with 0 Axes>"
            ]
          },
          "metadata": {}
        }
      ]
    },
    {
      "cell_type": "code",
      "source": [
        "# Evaluate the model on the test set\n",
        "test_loss, test_accuracy = model.evaluate(test_generator)\n",
        "print('Test accuracy:', test_accuracy)"
      ],
      "metadata": {
        "colab": {
          "base_uri": "https://localhost:8080/"
        },
        "id": "G54mnoXDDHwQ",
        "outputId": "cb589ae7-b9f0-4643-b117-cd456043a2b8"
      },
      "execution_count": null,
      "outputs": [
        {
          "output_type": "stream",
          "name": "stdout",
          "text": [
            "4/4 [==============================] - 1s 222ms/step - loss: 0.0000e+00 - accuracy: 1.0000\n",
            "Test accuracy: 1.0\n"
          ]
        }
      ]
    },
    {
      "cell_type": "code",
      "source": [
        "from sklearn.metrics import confusion_matrix, accuracy_score, classification_report\n",
        "from mlxtend.plotting import plot_confusion_matrix\n",
        "import seaborn as sns\n",
        "import pandas as pd\n",
        "\n",
        "# Get predicted classes for the validation set\n",
        "prediction = model.predict(valid_generator)\n",
        "pred = np.argmax(prediction, axis=1)\n",
        "\n",
        "# Get the actual classes for the validation set\n",
        "y_true = valid_generator.classes\n",
        "\n",
        "class_names = sorted(train_generator.class_indices.items(), key=lambda pair:pair[1])\n",
        "class_names = np.array([key.title() for key, value in class_names])\n",
        "class_names\n",
        "\n",
        "# Generate confusion matrix\n",
        "cm = confusion_matrix(y_true, pred)\n",
        "print(cm)\n",
        "\n",
        "# Print classification report\n",
        "report = classification_report(y_true, pred, target_names=class_names)\n",
        "print(report)\n",
        "\n",
        "# Create pandas dataframe for confusion matrix\n",
        "cm_df = pd.DataFrame(cm, index=class_names, columns=class_names)\n",
        "\n",
        "# Plot confusion matrix\n",
        "plt.figure(figsize=(5,5))\n",
        "sns.heatmap(cm_df, annot=True,cmap='Reds', fmt=\"d\")\n",
        "plt.title('Confusion Matrix')\n",
        "plt.ylabel('Actual Values')\n",
        "plt.xlabel('Predicted Values')\n",
        "plt.show()\n",
        "\n",
        "# Print accuracy score\n",
        "accuracy = accuracy_score(y_true, pred)\n",
        "print('Accuracy: {:.2f}%'.format(accuracy * 100))"
      ],
      "metadata": {
        "colab": {
          "base_uri": "https://localhost:8080/",
          "height": 713
        },
        "id": "J3io4lv0DlF-",
        "outputId": "299e9cf7-5f5e-4aa8-be8e-db43b5aa31c9"
      },
      "execution_count": null,
      "outputs": [
        {
          "output_type": "stream",
          "name": "stdout",
          "text": [
            "4/4 [==============================] - 1s 153ms/step\n",
            "[[ 99   1]\n",
            " [  0 100]]\n",
            "              precision    recall  f1-score   support\n",
            "\n",
            "       Crack       1.00      0.99      0.99       100\n",
            "   Non Crack       0.99      1.00      1.00       100\n",
            "\n",
            "    accuracy                           0.99       200\n",
            "   macro avg       1.00      0.99      0.99       200\n",
            "weighted avg       1.00      0.99      0.99       200\n",
            "\n"
          ]
        },
        {
          "output_type": "display_data",
          "data": {
            "text/plain": [
              "<Figure size 500x500 with 2 Axes>"
            ],
            "image/png": "[encoded data removed]"
          },
          "metadata": {}
        },
        {
          "output_type": "stream",
          "name": "stdout",
          "text": [
            "Accuracy: 99.50%\n"
          ]
        }
      ]
    }
  ]
}